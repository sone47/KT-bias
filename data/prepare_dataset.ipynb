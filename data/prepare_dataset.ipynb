{
 "cells": [
  {
   "cell_type": "code",
   "execution_count": 1,
   "metadata": {},
   "outputs": [],
   "source": [
    "from EduData import get_data\n",
    "import os\n",
    "\n",
    "dataset_dir = '2009_skill_builder_data_corrected'\n",
    "dataset_filename = 'skill_builder_data_corrected.csv'\n",
    "dataset_path = './' + dataset_dir + '/' + dataset_filename\n",
    "\n",
    "if not os.path.exists(dataset_path):\n",
    "    get_data('assistment-2009-2010-skill', './')"
   ]
  },
  {
   "cell_type": "code",
   "execution_count": 2,
   "metadata": {
    "pycharm": {
     "name": "#%%\n"
    }
   },
   "outputs": [],
   "source": [
    "import random\n",
    "import pandas as pd\n",
    "import tqdm\n",
    "import numpy as np\n",
    "\n",
    "data = pd.read_csv(\n",
    "    dataset_path,\n",
    "    usecols=['order_id', 'user_id', 'sequence_id', 'skill_id', 'correct']\n",
    ").fillna(0)"
   ]
  },
  {
   "cell_type": "code",
   "execution_count": 3,
   "metadata": {},
   "outputs": [
    {
     "name": "stdout",
     "output_type": "stream",
     "text": [
      "number of skills: 124\n"
     ]
    }
   ],
   "source": [
    "raw_question = data.skill_id.unique().tolist()\n",
    "num_skill = len(raw_question)\n",
    "\n",
    "question2id = {q: i for i, q in enumerate(raw_question)}\n",
    "data['skill_id'] = data['skill_id'].map(question2id)\n",
    "\n",
    "print(\"number of skills: %d\" % num_skill)"
   ]
  },
  {
   "cell_type": "code",
   "execution_count": 4,
   "metadata": {},
   "outputs": [
    {
     "name": "stderr",
     "output_type": "stream",
     "text": [
      "parse student sequence:\t: 100%|██████████| 4217/4217 [00:40<00:00, 103.44it/s]\n"
     ]
    }
   ],
   "source": [
    "def parse_all_seq(students):\n",
    "    all_sequences = []\n",
    "    for student_id in tqdm.tqdm(students, 'parse student sequence:\\t'):\n",
    "        student_sequence = parse_student_seq(data[data.user_id == student_id])\n",
    "        all_sequences.extend(student_sequence)\n",
    "    return all_sequences\n",
    "\n",
    "\n",
    "def parse_student_seq(student):\n",
    "    student = student.drop_duplicates(subset='order_id')\n",
    "    sequence_ids = student.sequence_id.unique()\n",
    "    sequences = []\n",
    "    for seq_id in sequence_ids:\n",
    "        seq = student[student.sequence_id == seq_id].sort_values('order_id')\n",
    "        questions = seq.skill_id.tolist()\n",
    "        answers = seq.correct.tolist()\n",
    "        sequences.append((questions, answers))\n",
    "    return sequences\n",
    "\n",
    "\n",
    "# [(question_sequence_0, answer_sequence_0), ..., (question_sequence_n, answer_sequence_n)]\n",
    "sequences = parse_all_seq(data.user_id.unique())"
   ]
  },
  {
   "cell_type": "code",
   "execution_count": 5,
   "metadata": {},
   "outputs": [],
   "source": [
    "def train_test_split(data, train_size=.7, shuffle=True):\n",
    "    if shuffle:\n",
    "        random.shuffle(data)\n",
    "    boundary = round(len(data) * train_size)\n",
    "    return data[: boundary], data[boundary:]\n",
    "\n",
    "\n",
    "train_sequences, test_sequences = train_test_split(sequences)"
   ]
  },
  {
   "cell_type": "code",
   "execution_count": 6,
   "metadata": {},
   "outputs": [],
   "source": [
    "def sequences2tl(sequences, trgpath):\n",
    "    with open(trgpath, 'a', encoding='utf8') as f:\n",
    "        for seq in tqdm.tqdm(sequences, 'write into file: '):\n",
    "            questions, answers = seq\n",
    "            seq_len = len(questions)\n",
    "            f.write(str(seq_len) + '\\n')\n",
    "            f.write(','.join([str(q) for q in questions]) + '\\n')\n",
    "            f.write(','.join([str(a) for a in answers]) + '\\n')\n",
    "\n",
    "\n",
    "# save triple line format for other tasks\n",
    "train_data_path = './' + dataset_dir + '/train.txt'\n",
    "test_data_path = './' + dataset_dir + '/test.txt'\n",
    "if not os.path.exists(train_data_path):\n",
    "    sequences2tl(train_sequences, train_data_path)\n",
    "if not os.path.exists(test_data_path):\n",
    "    sequences2tl(test_sequences, test_data_path)"
   ]
  },
  {
   "cell_type": "code",
   "execution_count": null,
   "metadata": {},
   "outputs": [],
   "source": [
    "# one-hot\n",
    "\n",
    "MAX_STEP = 50\n",
    "NUM_QUESTIONS = num_skill\n",
    "\n",
    "\n",
    "def encode_one_hot(sequences, max_step, num_questions):\n",
    "    question_sequences = np.array([])\n",
    "    answer_sequences = np.array([])\n",
    "    one_hot_result = []\n",
    "\n",
    "    for questions, answers in tqdm.tqdm(sequences, 'convert to one-hot format: '):\n",
    "        length = len(questions)\n",
    "        # append questions' and answers' length to an integer multiple of max_step\n",
    "        mod = 0 if length % max_step == 0 else (max_step - length % max_step)\n",
    "        fill_content = np.zeros(mod) - 1\n",
    "        questions = np.append(questions, fill_content)\n",
    "        answers = np.append(answers, fill_content)\n",
    "        # one hot\n",
    "        q_seqs = questions.reshape([-1, max_step])\n",
    "        a_seqs = answers.reshape([-1, max_step])\n",
    "        for (i, q_seq) in enumerate(q_seqs):\n",
    "            one_hot = np.zeros(shape = [max_step, 2 * num_questions])\n",
    "            for j in range(max_step):\n",
    "                index = int(q_seq[j] if a_seqs[i][j] > 0 else q_seq[j] + num_questions)\n",
    "                one_hot[j][index] = 1\n",
    "            one_hot_result = np.append(one_hot_result, one_hot)\n",
    "    \n",
    "    return one_hot_result.reshape(-1, max_step, 2 * num_questions)\n",
    "\n",
    "\n",
    "train_one_hot_path = './' + dataset_dir + '/train_data.npy'\n",
    "test_one_hot_path = './' + dataset_dir + '/test_data.npy'\n",
    "\n",
    "# save one_hot data\n",
    "if not os.path.exists(train_one_hot_path):\n",
    "    train_data = encode_one_hot(train_sequences, MAX_STEP, NUM_QUESTIONS)\n",
    "    np.save(train_one_hot_path, train_data)\n",
    "if not os.path.exists(test_one_hot_path):\n",
    "    test_data = encode_one_hot(test_sequences, MAX_STEP, NUM_QUESTIONS)\n",
    "    np.save(test_one_hot_path, test_data)"
   ]
  }
 ],
 "metadata": {
  "kernelspec": {
   "display_name": "Python 3",
   "language": "python",
   "name": "python3"
  },
  "language_info": {
   "codemirror_mode": {
    "name": "ipython",
    "version": 3
   },
   "file_extension": ".py",
   "mimetype": "text/x-python",
   "name": "python",
   "nbconvert_exporter": "python",
   "pygments_lexer": "ipython3",
   "version": "3.9.0"
  }
 },
 "nbformat": 4,
 "nbformat_minor": 1
}
